{
 "cells": [
  {
   "cell_type": "markdown",
   "metadata": {},
   "source": [
    "# Multinomial Logistic Regression"
   ]
  },
  {
   "cell_type": "markdown",
   "metadata": {},
   "source": [
    "## Import relevant libraries"
   ]
  },
  {
   "cell_type": "code",
   "execution_count": 23,
   "metadata": {
    "collapsed": true
   },
   "outputs": [],
   "source": [
    "import numpy as np\n",
    "import matplotlib.pyplot as plt\n",
    "%matplotlib inline"
   ]
  },
  {
   "cell_type": "code",
   "execution_count": 24,
   "metadata": {
    "collapsed": true
   },
   "outputs": [],
   "source": [
    "from sklearn.datasets import make_classification"
   ]
  },
  {
   "cell_type": "markdown",
   "metadata": {},
   "source": [
    "## Create classification data"
   ]
  },
  {
   "cell_type": "code",
   "execution_count": 54,
   "metadata": {
    "collapsed": true
   },
   "outputs": [],
   "source": [
    "X, y = make_classification(n_samples = 10, n_features = 2, n_informative = 2, n_redundant = 0, n_classes = 3, n_clusters_per_class = 1, class_sep = 5, shuffle=False)"
   ]
  },
  {
   "cell_type": "code",
   "execution_count": 55,
   "metadata": {},
   "outputs": [
    {
     "data": {
      "text/plain": [
       "array([[ 3.94231909,  6.20615984],\n",
       "       [ 5.28622515,  4.94139112],\n",
       "       [ 5.06491963,  5.2384248 ],\n",
       "       [ 5.0342954 ,  4.52055311],\n",
       "       [-3.86112898, -6.81240199],\n",
       "       [-6.36723608, -4.30123025],\n",
       "       [-4.50723551, -5.40269328],\n",
       "       [-4.47684036,  5.29858836],\n",
       "       [-3.2780809 ,  5.96120317],\n",
       "       [-7.66883387,  3.66511605]])"
      ]
     },
     "execution_count": 55,
     "metadata": {},
     "output_type": "execute_result"
    }
   ],
   "source": [
    "X"
   ]
  },
  {
   "cell_type": "code",
   "execution_count": 56,
   "metadata": {},
   "outputs": [
    {
     "data": {
      "text/plain": [
       "array([0, 0, 0, 0, 1, 1, 1, 2, 2, 2])"
      ]
     },
     "execution_count": 56,
     "metadata": {},
     "output_type": "execute_result"
    }
   ],
   "source": [
    "y"
   ]
  },
  {
   "cell_type": "code",
   "execution_count": 57,
   "metadata": {},
   "outputs": [
    {
     "data": {
      "text/plain": [
       "Text(0,0.5,'X2')"
      ]
     },
     "execution_count": 57,
     "metadata": {},
     "output_type": "execute_result"
    },
    {
     "data": {
      "image/png": "[encoded data removed]",
      "text/plain": [
       "<matplotlib.figure.Figure at 0x1149b2208>"
      ]
     },
     "metadata": {},
     "output_type": "display_data"
    }
   ],
   "source": [
    "red = plt.scatter(X[:4,0], X[:4,1], c='r')\n",
    "blue = plt.scatter(X[4:7,0], X[4:7,1], c='b')\n",
    "yellow = plt.scatter(X[7:,0], X[7:,1], c='y')\n",
    "plt.xlabel(\"X1\")\n",
    "plt.ylabel(\"X2\")"
   ]
  },
  {
   "cell_type": "markdown",
   "metadata": {},
   "source": [
    "## One vs. All split"
   ]
  },
  {
   "cell_type": "code",
   "execution_count": 58,
   "metadata": {},
   "outputs": [
    {
     "name": "stdout",
     "output_type": "stream",
     "text": [
      "0: [1, 1, 1, 1, 0, 0, 0, 0, 0, 0]\n",
      "1: [0, 0, 0, 0, 1, 1, 1, 0, 0, 0]\n",
      "2: [0, 0, 0, 0, 0, 0, 0, 1, 1, 1]\n"
     ]
    }
   ],
   "source": [
    "result = {}\n",
    "\n",
    "i=0\n",
    "for v in y:\n",
    "    if v not in result.keys():\n",
    "            result[v] = [0] * len(y)\n",
    "    result[v][i] = 1\n",
    "    i+=1\n",
    "\n",
    "y_0 = result[0]\n",
    "y_1 = result[1]\n",
    "y_2 = result[2]\n",
    "\n",
    "for key in result.keys():\n",
    "        print('{}: {}'.format(key, result[key]))"
   ]
  },
  {
   "cell_type": "markdown",
   "metadata": {
    "collapsed": true
   },
   "source": [
    "## Define relevant functions"
   ]
  },
  {
   "cell_type": "code",
   "execution_count": 59,
   "metadata": {
    "collapsed": true
   },
   "outputs": [],
   "source": [
    "def sigmoid(theta, x):\n",
    "    return 1. / (1. + np.exp(-np.dot(x, theta)))\n",
    "\n",
    "def gradient(theta, x, y):\n",
    "    first_calc = sigmoid(theta, x) - np.squeeze(y)\n",
    "    final_calc = np.dot(x.transpose(), first_calc)\n",
    "    return final_calc\n",
    "\n",
    "def cost_func(theta, x, y):\n",
    "    hypothesis = sigmoid(theta,x)\n",
    "    y = np.squeeze(y)\n",
    "    step1 = y * np.log(hypothesis)\n",
    "    step2 = (1-y) * np.log(1 - hypothesis)\n",
    "    final = -step1 - step2\n",
    "    return np.mean(final)\n",
    "\n",
    "def gradient_descent(theta_opt, X, y, alpha=.001, min_change=.001):\n",
    "    # Set-up cost-iteration list\n",
    "    cost_iter = []\n",
    "    cost = cost_func(theta_opt, X, y)\n",
    "    cost_iter.append([0, cost])\n",
    "    change_cost = 1\n",
    "    i = 1\n",
    "    while(change_cost > min_change):\n",
    "        old_cost = cost\n",
    "        theta_opt = theta_opt - (alpha * gradient(theta_opt, X, y))\n",
    "        cost = cost_func(theta_opt, X, y)\n",
    "        cost_iter.append([i, cost])\n",
    "        change_cost = old_cost - cost\n",
    "        i+=1\n",
    "    return theta_opt, np.array(cost_iter)"
   ]
  },
  {
   "cell_type": "markdown",
   "metadata": {},
   "source": [
    "## Fit the parameters for each classifier"
   ]
  },
  {
   "cell_type": "code",
   "execution_count": 60,
   "metadata": {},
   "outputs": [
    {
     "data": {
      "text/plain": [
       "array([[ 0.52623251,  0.08464008],\n",
       "       [-0.05705366, -0.51912376],\n",
       "       [-0.19526047,  0.13536739]])"
      ]
     },
     "execution_count": 60,
     "metadata": {},
     "output_type": "execute_result"
    }
   ],
   "source": [
    "shape = X.shape[1]\n",
    "betas0 = np.zeros(shape)\n",
    "betas1 = np.zeros(shape)\n",
    "betas2 = np.zeros(shape)\n",
    "\n",
    "fitted_values0, cost_iter = gradient_descent(betas0, X, y_0)\n",
    "fitted_values1, cost_iter = gradient_descent(betas1, X, y_1)\n",
    "fitted_values2, cost_iter = gradient_descent(betas2, X, y_2)\n",
    "\n",
    "fitted_values = np.asarray([fitted_values0, fitted_values1, fitted_values2])\n",
    "\n",
    "fitted_values"
   ]
  },
  {
   "cell_type": "markdown",
   "metadata": {},
   "source": [
    "## Predict values"
   ]
  },
  {
   "cell_type": "code",
   "execution_count": 61,
   "metadata": {},
   "outputs": [
    {
     "data": {
      "text/plain": [
       "[array([ 0.93085298,  0.03086776,  0.51757589]),\n",
       " array([ 0.96083515,  0.05381978,  0.41016396]),\n",
       " array([ 0.95725044,  0.04704949,  0.43048645]),\n",
       " array([ 0.95399156,  0.06698507,  0.40828408]),\n",
       " array([ 0.06859632,  0.97717415,  0.45803615]),\n",
       " array([ 0.02378325,  0.93061306,  0.65949021]),\n",
       " array([ 0.05576976,  0.95529013,  0.53711572]),\n",
       " array([ 0.12927481,  0.07619516,  0.83081383]),\n",
       " array([ 0.22785269,  0.05178034,  0.80954125]),\n",
       " array([ 0.02353675,  0.18768643,  0.88011898])]"
      ]
     },
     "execution_count": 61,
     "metadata": {},
     "output_type": "execute_result"
    }
   ],
   "source": [
    "predictions = []\n",
    "\n",
    "for i in range(10):\n",
    "    predictions.append(sigmoid(fitted_values.transpose(), X[i]))\n",
    "predictions\n",
    "#print(np.argmax(predictions, 1))"
   ]
  },
  {
   "cell_type": "markdown",
   "metadata": {},
   "source": [
    "## Visualize classifier"
   ]
  },
  {
   "cell_type": "code",
   "execution_count": 62,
   "metadata": {},
   "outputs": [
    {
     "data": {
      "text/plain": [
       "[<matplotlib.lines.Line2D at 0x114a9cbe0>]"
      ]
     },
     "execution_count": 62,
     "metadata": {},
     "output_type": "execute_result"
    },
    {
     "data": {
      "image/png": "[encoded data removed]",
      "text/plain": [
       "<matplotlib.figure.Figure at 0x1149ca048>"
      ]
     },
     "metadata": {},
     "output_type": "display_data"
    }
   ],
   "source": [
    "red = plt.scatter(X[:4,0], X[:4,1], c='r')\n",
    "blue = plt.scatter(X[4:7,0], X[4:7,1], c='b')\n",
    "yellow = plt.scatter(X[7:,0], X[7:,1], c='y')\n",
    "plt.xlabel(\"X1\")\n",
    "plt.ylabel(\"X2\")\n",
    "\n",
    "plt.plot(X[:,0], -fitted_values[0][0]/fitted_values[0][1]*X[:,0], c='r')\n",
    "plt.plot(X[:,0], -fitted_values[1][0]/fitted_values[1][1]*X[:,0], c='b')\n",
    "plt.plot(X[:,0], -fitted_values[2][0]/fitted_values[2][1]*X[:,0], c='y')"
   ]
  },
  {
   "cell_type": "code",
   "execution_count": null,
   "metadata": {
    "collapsed": true
   },
   "outputs": [],
   "source": []
  }
 ],
 "metadata": {
  "kernelspec": {
   "display_name": "Python 3",
   "language": "python",
   "name": "python3"
  },
  "language_info": {
   "codemirror_mode": {
    "name": "ipython",
    "version": 3
   },
   "file_extension": ".py",
   "mimetype": "text/x-python",
   "name": "python",
   "nbconvert_exporter": "python",
   "pygments_lexer": "ipython3",
   "version": "3.5.4"
  }
 },
 "nbformat": 4,
 "nbformat_minor": 2
}
