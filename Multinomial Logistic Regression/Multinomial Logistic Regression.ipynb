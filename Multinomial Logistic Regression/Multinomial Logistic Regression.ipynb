{
 "cells": [
  {
   "cell_type": "markdown",
   "metadata": {},
   "source": [
    "# Multinomial Logistic Regression"
   ]
  },
  {
   "cell_type": "markdown",
   "metadata": {},
   "source": [
    "## Import relevant libraries"
   ]
  },
  {
   "cell_type": "code",
   "execution_count": 25,
   "metadata": {
    "collapsed": true
   },
   "outputs": [],
   "source": [
    "import numpy as np\n",
    "import matplotlib.pyplot as plt\n",
    "%matplotlib inline"
   ]
  },
  {
   "cell_type": "code",
   "execution_count": 26,
   "metadata": {
    "collapsed": true
   },
   "outputs": [],
   "source": [
    "from sklearn.datasets import make_classification"
   ]
  },
  {
   "cell_type": "markdown",
   "metadata": {},
   "source": [
    "## Create classification data"
   ]
  },
  {
   "cell_type": "code",
   "execution_count": 27,
   "metadata": {
    "collapsed": true
   },
   "outputs": [],
   "source": [
    "X, y = make_classification(n_samples = 10, n_features = 2, n_informative = 2, n_redundant = 0, n_classes = 3, n_clusters_per_class = 1, class_sep = 5, shuffle=False)"
   ]
  },
  {
   "cell_type": "code",
   "execution_count": 28,
   "metadata": {},
   "outputs": [
    {
     "data": {
      "text/plain": [
       "array([[-5.10699211,  5.37078206],\n",
       "       [-5.55866252,  5.81666223],\n",
       "       [-5.48453316,  5.82226628],\n",
       "       [-5.08643114,  5.41577268],\n",
       "       [-5.9809092 , -3.61247262],\n",
       "       [-5.11465919, -6.17636072],\n",
       "       [-5.0236118 , -5.51927907],\n",
       "       [ 5.34813537,  4.80325999],\n",
       "       [ 4.45638496,  5.42775631],\n",
       "       [ 6.00976256,  4.25330605]])"
      ]
     },
     "execution_count": 28,
     "metadata": {},
     "output_type": "execute_result"
    }
   ],
   "source": [
    "X"
   ]
  },
  {
   "cell_type": "code",
   "execution_count": 29,
   "metadata": {},
   "outputs": [
    {
     "data": {
      "text/plain": [
       "array([0, 0, 0, 0, 1, 1, 1, 2, 2, 2])"
      ]
     },
     "execution_count": 29,
     "metadata": {},
     "output_type": "execute_result"
    }
   ],
   "source": [
    "y"
   ]
  },
  {
   "cell_type": "code",
   "execution_count": 30,
   "metadata": {},
   "outputs": [
    {
     "data": {
      "text/plain": [
       "Text(0,0.5,'X2')"
      ]
     },
     "execution_count": 30,
     "metadata": {},
     "output_type": "execute_result"
    },
    {
     "data": {
      "image/png": "[encoded data removed]",
      "text/plain": [
       "<matplotlib.figure.Figure at 0x10c0500b8>"
      ]
     },
     "metadata": {},
     "output_type": "display_data"
    }
   ],
   "source": [
    "red = plt.scatter(X[:4,0], X[:4,1], c='r')\n",
    "blue = plt.scatter(X[4:7,0], X[4:7,1], c='b')\n",
    "yellow = plt.scatter(X[7:,0], X[7:,1], c='y')\n",
    "plt.xlabel(\"X1\")\n",
    "plt.ylabel(\"X2\")"
   ]
  },
  {
   "cell_type": "markdown",
   "metadata": {},
   "source": [
    "## One vs. All split"
   ]
  },
  {
   "cell_type": "code",
   "execution_count": 31,
   "metadata": {},
   "outputs": [
    {
     "name": "stdout",
     "output_type": "stream",
     "text": [
      "0: [1, 1, 1, 1, 0, 0, 0, 0, 0, 0]\n",
      "1: [0, 0, 0, 0, 1, 1, 1, 0, 0, 0]\n",
      "2: [0, 0, 0, 0, 0, 0, 0, 1, 1, 1]\n"
     ]
    }
   ],
   "source": [
    "result = {}\n",
    "\n",
    "i=0\n",
    "for v in y:\n",
    "    if v not in result.keys():\n",
    "            result[v] = [0] * len(y)\n",
    "    result[v][i] = 1\n",
    "    i+=1\n",
    "\n",
    "y_0 = result[0]\n",
    "y_1 = result[1]\n",
    "y_2 = result[2]\n",
    "\n",
    "for key in result.keys():\n",
    "        print('{}: {}'.format(key, result[key]))"
   ]
  },
  {
   "cell_type": "markdown",
   "metadata": {
    "collapsed": true
   },
   "source": [
    "## Define relevant functions"
   ]
  },
  {
   "cell_type": "code",
   "execution_count": 32,
   "metadata": {
    "collapsed": true
   },
   "outputs": [],
   "source": [
    "def sigmoid(theta, x):\n",
    "    return 1. / (1. + np.exp(-np.dot(x, theta)))\n",
    "\n",
    "def gradient(theta, x, y):\n",
    "    first_calc = sigmoid(theta, x) - np.squeeze(y)\n",
    "    final_calc = np.dot(x.transpose(), first_calc)\n",
    "    return final_calc\n",
    "\n",
    "def cost_func(theta, x, y):\n",
    "    hypothesis = sigmoid(theta,x)\n",
    "    y = np.squeeze(y)\n",
    "    step1 = y * np.log(hypothesis)\n",
    "    step2 = (1-y) * np.log(1 - hypothesis)\n",
    "    final = -step1 - step2\n",
    "    return np.mean(final)\n",
    "\n",
    "def gradient_descent(theta_opt, X, y, alpha=.001, min_change=.001):\n",
    "    # Set-up cost-iteration list\n",
    "    cost_iter = []\n",
    "    cost = cost_func(theta_opt, X, y)\n",
    "    cost_iter.append([0, cost])\n",
    "    change_cost = 1\n",
    "    i = 1\n",
    "    while(change_cost > min_change):\n",
    "        old_cost = cost\n",
    "        theta_opt = theta_opt - (alpha * gradient(theta_opt, X, y))\n",
    "        cost = cost_func(theta_opt, X, y)\n",
    "        cost_iter.append([i, cost])\n",
    "        change_cost = old_cost - cost\n",
    "        i+=1\n",
    "    return theta_opt, np.array(cost_iter)"
   ]
  },
  {
   "cell_type": "markdown",
   "metadata": {},
   "source": [
    "## Fit the parameters for each classifier"
   ]
  },
  {
   "cell_type": "code",
   "execution_count": 33,
   "metadata": {},
   "outputs": [
    {
     "data": {
      "text/plain": [
       "array([[-0.18607235,  0.20464495],\n",
       "       [-0.06589595, -0.52040554],\n",
       "       [ 0.52296785,  0.03111736]])"
      ]
     },
     "execution_count": 33,
     "metadata": {},
     "output_type": "execute_result"
    }
   ],
   "source": [
    "shape = X.shape[1]\n",
    "betas0 = np.zeros(shape)\n",
    "betas1 = np.zeros(shape)\n",
    "betas2 = np.zeros(shape)\n",
    "\n",
    "fitted_values0, cost_iter = gradient_descent(betas0, X, y_0)\n",
    "fitted_values1, cost_iter = gradient_descent(betas1, X, y_1)\n",
    "fitted_values2, cost_iter = gradient_descent(betas2, X, y_2)\n",
    "\n",
    "fitted_values = np.asarray([fitted_values0, fitted_values1, fitted_values2])\n",
    "\n",
    "fitted_values"
   ]
  },
  {
   "cell_type": "markdown",
   "metadata": {},
   "source": [
    "## Predict values"
   ]
  },
  {
   "cell_type": "code",
   "execution_count": 37,
   "metadata": {},
   "outputs": [
    {
     "name": "stdout",
     "output_type": "stream",
     "text": [
      "[array([ 0.8858843 ,  0.07882247,  0.07560143]), array([ 0.90244258,  0.06533075,  0.06145633]), array([ 0.9013235 ,  0.064856  ,  0.06374119]), array([ 0.88642718,  0.07704272,  0.07645513]), array([ 0.5923304 ,  0.90670651,  0.03767941]), array([ 0.42256212,  0.97211127,  0.05380948]), array([ 0.45146893,  0.96095824,  0.05738187]), array([ 0.49695574,  0.05457475,  0.95009153]), array([ 0.5699269,  0.042359 ,  0.9241028]), array([ 0.43835694,  0.06853187,  0.96357041])]\n",
      "[0 0 0 0 1 1 1 2 2 2]\n"
     ]
    }
   ],
   "source": [
    "predictions = []\n",
    "\n",
    "for i in range(10):\n",
    "    predictions.append(sigmoid(fitted_values.transpose(), X[i]))\n",
    "\n",
    "print(predictions)\n",
    "print(np.argmax(predictions, 1))"
   ]
  },
  {
   "cell_type": "markdown",
   "metadata": {},
   "source": [
    "## Visualize classifier"
   ]
  },
  {
   "cell_type": "code",
   "execution_count": 35,
   "metadata": {},
   "outputs": [
    {
     "data": {
      "text/plain": [
       "[<matplotlib.lines.Line2D at 0x10c488b00>]"
      ]
     },
     "execution_count": 35,
     "metadata": {},
     "output_type": "execute_result"
    },
    {
     "data": {
      "image/png": "[encoded data removed]",
      "text/plain": [
       "<matplotlib.figure.Figure at 0x10c3e6c18>"
      ]
     },
     "metadata": {},
     "output_type": "display_data"
    }
   ],
   "source": [
    "red = plt.scatter(X[:4,0], X[:4,1], c='r')\n",
    "blue = plt.scatter(X[4:7,0], X[4:7,1], c='b')\n",
    "yellow = plt.scatter(X[7:,0], X[7:,1], c='y')\n",
    "plt.xlabel(\"X1\")\n",
    "plt.ylabel(\"X2\")\n",
    "\n",
    "plt.plot(X[:,0], fitted_values[0][0]/fitted_values[0][1]*X[:,0], c='r')\n",
    "plt.plot(X[:,0], fitted_values[1][0]/fitted_values[1][1]*X[:,0], c='b')\n",
    "plt.plot(X[:,0], fitted_values[2][0]/fitted_values[2][1]*X[:,0], c='y')"
   ]
  },
  {
   "cell_type": "code",
   "execution_count": null,
   "metadata": {
    "collapsed": true
   },
   "outputs": [],
   "source": []
  }
 ],
 "metadata": {
  "kernelspec": {
   "display_name": "Python 3",
   "language": "python",
   "name": "python3"
  },
  "language_info": {
   "codemirror_mode": {
    "name": "ipython",
    "version": 3
   },
   "file_extension": ".py",
   "mimetype": "text/x-python",
   "name": "python",
   "nbconvert_exporter": "python",
   "pygments_lexer": "ipython3",
   "version": "3.5.4"
  }
 },
 "nbformat": 4,
 "nbformat_minor": 2
}
